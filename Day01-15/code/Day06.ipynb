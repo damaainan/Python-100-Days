{
 "cells": [
  {
   "cell_type": "code",
   "execution_count": 2,
   "metadata": {},
   "outputs": [
    {
     "name": "stdout",
     "output_type": "stream",
     "text": [
      "1566284268.0562403\n",
      "time.struct_time(tm_year=2019, tm_mon=8, tm_mday=20, tm_hour=14, tm_min=57, tm_sec=48, tm_wday=1, tm_yday=232, tm_isdst=0)\n",
      "2019\n",
      "8\n",
      "20\n",
      "Tue Aug 20 14:57:48 2019\n",
      "2019-08-20 14:57:48\n",
      "time.struct_time(tm_year=2018, tm_mon=1, tm_mday=1, tm_hour=0, tm_min=0, tm_sec=0, tm_wday=0, tm_yday=1, tm_isdst=-1)\n"
     ]
    }
   ],
   "source": [
    "\"\"\"\n",
    "Python常用模块\n",
    "- 运行时服务相关模块: copy / pickle / sys / ...\n",
    "- 数学相关模块: decimal / math / random / ...\n",
    "- 字符串处理模块: codecs / re / ...\n",
    "- 文件处理相关模块: shutil / gzip / ...\n",
    "- 操作系统服务相关模块: datetime / os / time / logging / io / ...\n",
    "- 进程和线程相关模块: multiprocessing / threading / queue\n",
    "- 网络应用相关模块: ftplib / http / smtplib / urllib / ...\n",
    "- Web编程相关模块: cgi / webbrowser\n",
    "- 数据处理和编码模块: base64 / csv / html.parser / json / xml / ...\n",
    "\n",
    "\"\"\"\n",
    "\n",
    "import time\n",
    "import shutil\n",
    "import os\n",
    "\n",
    "seconds = time.time()\n",
    "print(seconds)\n",
    "localtime = time.localtime(seconds)\n",
    "print(localtime)\n",
    "print(localtime.tm_year)\n",
    "print(localtime.tm_mon)\n",
    "print(localtime.tm_mday)\n",
    "asctime = time.asctime(localtime)\n",
    "print(asctime)\n",
    "strtime = time.strftime('%Y-%m-%d %H:%M:%S', localtime)\n",
    "print(strtime)\n",
    "mydate = time.strptime('2018-1-1', '%Y-%m-%d')\n",
    "print(mydate)\n",
    "\n",
    "# shutil.copy('/Users/Hao/hello.py', '/Users/Hao/Desktop/first.py')\n",
    "# os.system('ls -l')\n",
    "# os.chdir('/Users/Hao')\n",
    "# os.system('ls -l')\n",
    "# os.mkdir('test')"
   ]
  },
  {
   "cell_type": "code",
   "execution_count": 3,
   "metadata": {},
   "outputs": [
    {
     "name": "stdout",
     "output_type": "stream",
     "text": [
      "call foo()\n",
      "call bar()\n"
     ]
    }
   ],
   "source": [
    "def foo():\n",
    "    pass\n",
    "\n",
    "\n",
    "def bar():\n",
    "    pass\n",
    "\n",
    "\n",
    "# __name__是Python中一个隐含的变量它代表了模块的名字\n",
    "# 只有被Python解释器直接执行的模块的名字才是__main__\n",
    "if __name__ == '__main__':\n",
    "    print('call foo()')\n",
    "    foo()\n",
    "    print('call bar()')\n",
    "    bar()"
   ]
  },
  {
   "cell_type": "code",
   "execution_count": 4,
   "metadata": {},
   "outputs": [
    {
     "name": "stdout",
     "output_type": "stream",
     "text": [
      "骆\n",
      "0x9a86\n",
      "1.2345\n",
      "-1\n",
      "2.8671833852463537\n",
      "['peach', 'durian']\n",
      "['orange', 'peach', 'durian', 'watermelon']\n",
      "['orange', 'durian']\n"
     ]
    }
   ],
   "source": [
    "\"\"\"\n",
    "Python的内置函数\n",
    "- 数学相关: abs / divmod / pow / round / min / max / sum\n",
    "- 序列相关: len / range / next / filter / map / sorted / slice / reversed\n",
    "- 类型转换: chr / ord / str / bool / int / float / complex / bin / oct / hex\n",
    "- 数据结构: dict / list / set / tuple\n",
    "- 其他函数: all / any / id / input / open / print / type\n",
    "\n",
    "\"\"\"\n",
    "\n",
    "\n",
    "def myfilter(mystr):\n",
    "    return len(mystr) == 6\n",
    "\n",
    "\n",
    "# help()\n",
    "print(chr(0x9a86))\n",
    "print(hex(ord('骆')))\n",
    "print(abs(-1.2345))\n",
    "print(round(-1.2345))\n",
    "print(pow(1.2345, 5))\n",
    "fruits = ['orange', 'peach', 'durian', 'watermelon']\n",
    "print(fruits[slice(1, 3)])\n",
    "fruits2 = list(filter(myfilter, fruits))\n",
    "print(fruits)\n",
    "print(fruits2)\n"
   ]
  },
  {
   "cell_type": "code",
   "execution_count": 5,
   "metadata": {},
   "outputs": [
    {
     "name": "stdout",
     "output_type": "stream",
     "text": [
      "10\n",
      "100\n",
      "10\n",
      "200\n",
      "200\n"
     ]
    }
   ],
   "source": [
    "\"\"\"\n",
    "作用域问题\n",
    "\n",
    "\"\"\"\n",
    "\n",
    "\n",
    "# 局部作用域\n",
    "def foo1():\n",
    "    a = 5\n",
    "\n",
    "\n",
    "foo1()\n",
    "# print(a)  # NameError\n",
    "\n",
    "# 全局作用域\n",
    "b = 10\n",
    "\n",
    "\n",
    "def foo2():\n",
    "    print(b)\n",
    "\n",
    "\n",
    "foo2()\n",
    "\n",
    "\n",
    "def foo3():\n",
    "    b = 100     # 局部变量\n",
    "    print(b)\n",
    "\n",
    "\n",
    "foo3()\n",
    "print(b)\n",
    "\n",
    "\n",
    "def foo4():\n",
    "    global b\n",
    "    b = 200     # 全局变量\n",
    "    print(b)\n",
    "\n",
    "\n",
    "foo4()\n",
    "print(b)\n"
   ]
  },
  {
   "cell_type": "code",
   "execution_count": null,
   "metadata": {},
   "outputs": [],
   "source": []
  }
 ],
 "metadata": {
  "kernelspec": {
   "display_name": "Python 3",
   "language": "python",
   "name": "python3"
  },
  "language_info": {
   "codemirror_mode": {
    "name": "ipython",
    "version": 3
   },
   "file_extension": ".py",
   "mimetype": "text/x-python",
   "name": "python",
   "nbconvert_exporter": "python",
   "pygments_lexer": "ipython3",
   "version": "3.6.8"
  }
 },
 "nbformat": 4,
 "nbformat_minor": 2
}
