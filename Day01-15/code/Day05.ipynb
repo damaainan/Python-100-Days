{
 "cells": [
  {
   "cell_type": "code",
   "execution_count": 2,
   "metadata": {},
   "outputs": [
    {
     "name": "stdout",
     "output_type": "stream",
     "text": [
      "153\n",
      "370\n",
      "371\n",
      "407\n"
     ]
    }
   ],
   "source": [
    "# 寻找水仙花数\n",
    "# 水仙花数是指一个 3 位数，它的每个位上的数字的 3次幂之和等于它本身（例如：1^3 + 5^3+ 3^3 = 153）\n",
    "\n",
    "for num in range(100, 1000):\n",
    "    l = num % 10\n",
    "    m = num // 10 % 10\n",
    "    h = num // 100\n",
    "    if num == l **3 + m ** 3 + h **3:\n",
    "        print(num)"
   ]
  },
  {
   "cell_type": "code",
   "execution_count": 3,
   "metadata": {},
   "outputs": [
    {
     "name": "stdout",
     "output_type": "stream",
     "text": [
      "1\n",
      "6\n",
      "28\n",
      "496\n",
      "8128\n"
     ]
    }
   ],
   "source": [
    "# 如果一个数恰好等于它的因子之和，则称该数为“完全数”\n",
    "\n",
    "\"\"\"\n",
    "找出1~9999之间的所有完美数\n",
    "完美数是除自身外其他所有因子的和正好等于这个数本身的数\n",
    "例如: 6 = 1 + 2 + 3, 28 = 1 + 2 + 4 + 7 + 14\n",
    "\"\"\"\n",
    "import math\n",
    "\n",
    "for num in range(1, 10000):\n",
    "    result = 0\n",
    "    for factor in range(1, int(math.sqrt(num)) + 1):\n",
    "        if num % factor == 0:\n",
    "            result += factor\n",
    "            if factor > 1 and num // factor != factor:\n",
    "                result += num // factor\n",
    "    if result == num:\n",
    "        print(num)"
   ]
  },
  {
   "cell_type": "code",
   "execution_count": 4,
   "metadata": {},
   "outputs": [
    {
     "name": "stdout",
     "output_type": "stream",
     "text": [
      "公鸡: 0只, 母鸡: 25只, 小鸡: 75只\n",
      "公鸡: 4只, 母鸡: 18只, 小鸡: 78只\n",
      "公鸡: 8只, 母鸡: 11只, 小鸡: 81只\n",
      "公鸡: 12只, 母鸡: 4只, 小鸡: 84只\n"
     ]
    }
   ],
   "source": [
    "\"\"\"\n",
    "求解《百钱百鸡》问题\n",
    "1只公鸡5元 1只母鸡3元 3只小鸡1元 用100元买100只鸡\n",
    "问公鸡 母鸡 小鸡各有多少只\n",
    "\"\"\"\n",
    "\n",
    "for x in range(0, 20):\n",
    "    for y in range(0, 33):\n",
    "        z = 100 - x - y\n",
    "        if 5 * x + 3 * y + z / 3 == 100:\n",
    "            print('公鸡: %d只, 母鸡: %d只, 小鸡: %d只' % (x, y, z))"
   ]
  },
  {
   "cell_type": "code",
   "execution_count": 5,
   "metadata": {},
   "outputs": [
    {
     "name": "stdout",
     "output_type": "stream",
     "text": [
      "你的总资产为: 1000\n",
      "请下注: 100\n",
      "玩家摇出了5点\n",
      "玩家摇出了9点\n",
      "玩家摇出了7点\n",
      "庄家胜\n",
      "你的总资产为: 900\n",
      "请下注: 200\n",
      "玩家摇出了6点\n",
      "玩家摇出了8点\n",
      "玩家摇出了4点\n",
      "玩家摇出了7点\n",
      "庄家胜\n",
      "你的总资产为: 700\n",
      "请下注: 500\n",
      "玩家摇出了3点\n",
      "庄家胜!\n",
      "你的总资产为: 200\n",
      "请下注: 300\n",
      "请下注: 200\n",
      "玩家摇出了9点\n",
      "玩家摇出了10点\n",
      "玩家摇出了5点\n",
      "玩家摇出了4点\n",
      "玩家摇出了11点\n",
      "玩家摇出了11点\n",
      "玩家摇出了7点\n",
      "庄家胜\n",
      "你破产了, 游戏结束!\n"
     ]
    }
   ],
   "source": [
    "\"\"\"\n",
    "Craps赌博游戏\n",
    "玩家摇两颗色子 如果第一次摇出7点或11点 玩家胜\n",
    "如果摇出2点 3点 12点 庄家胜 其他情况游戏继续\n",
    "玩家再次要色子 如果摇出7点 庄家胜\n",
    "如果摇出第一次摇的点数 玩家胜\n",
    "否则游戏继续 玩家继续摇色子\n",
    "玩家进入游戏时有1000元的赌注 全部输光游戏结束\n",
    "\"\"\"\n",
    "\n",
    "from random import randint\n",
    "\n",
    "money = 1000\n",
    "while money > 0:\n",
    "    print('你的总资产为:', money)\n",
    "    needs_go_on = False\n",
    "    while True:\n",
    "        debt = int(input('请下注: '))\n",
    "        if 0 < debt <= money:\n",
    "            break\n",
    "    first = randint(1, 6) + randint(1, 6)\n",
    "    print('玩家摇出了%d点' % first)\n",
    "    if first == 7 or first == 11:\n",
    "        print('玩家胜!')\n",
    "        money += debt\n",
    "    elif first == 2 or first == 3 or first == 12:\n",
    "        print('庄家胜!')\n",
    "        money -= debt\n",
    "    else:\n",
    "        needs_go_on = True\n",
    "\n",
    "    while needs_go_on:\n",
    "        current = randint(1, 6) + randint(1, 6)\n",
    "        print('玩家摇出了%d点' % current)\n",
    "        if current == 7:\n",
    "            print('庄家胜')\n",
    "            money -= debt\n",
    "            needs_go_on = False\n",
    "        elif current == first:\n",
    "            print('玩家胜')\n",
    "            money += debt\n",
    "            needs_go_on = False\n",
    "\n",
    "print('你破产了, 游戏结束!')"
   ]
  },
  {
   "cell_type": "code",
   "execution_count": 6,
   "metadata": {},
   "outputs": [
    {
     "name": "stdout",
     "output_type": "stream",
     "text": [
      "1 1 2 3 5 8 13 21 34 55 89 144 233 377 610 987 1597 2584 4181 6765 "
     ]
    }
   ],
   "source": [
    "\"\"\"\n",
    "输出斐波那契数列的前20个数\n",
    "1 1 2 3 5 8 13 21 ...\n",
    "\"\"\"\n",
    "\n",
    "a = 0\n",
    "b = 1\n",
    "for _ in range(20):\n",
    "    a, b = b, a + b\n",
    "    print(a, end=' ')"
   ]
  },
  {
   "cell_type": "code",
   "execution_count": 7,
   "metadata": {},
   "outputs": [
    {
     "name": "stdout",
     "output_type": "stream",
     "text": [
      "请输入: 50\n",
      "小一点\n",
      "请输入: 25\n",
      "大一点\n",
      "请输入: 37\n",
      "大一点\n",
      "请输入: 42\n",
      "大一点\n",
      "请输入: 45\n",
      "大一点\n",
      "请输入: 47\n",
      "恭喜你猜对了!\n",
      "你总共猜了6次\n"
     ]
    }
   ],
   "source": [
    "\"\"\"\n",
    "猜数字游戏\n",
    "计算机出一个1~100之间的随机数由人来猜\n",
    "计算机根据人猜的数字分别给出提示大一点/小一点/猜对了\n",
    "\n",
    "\"\"\"\n",
    "\n",
    "import random\n",
    "\n",
    "answer = random.randint(1, 100)\n",
    "counter = 0\n",
    "while True:\n",
    "    counter += 1\n",
    "    number = int(input('请输入: '))\n",
    "    if number < answer:\n",
    "        print('大一点')\n",
    "    elif number > answer:\n",
    "        print('小一点')\n",
    "    else:\n",
    "        print('恭喜你猜对了!')\n",
    "        break\n",
    "print('你总共猜了%d次' % counter)\n",
    "if counter > 7:\n",
    "    print('你的智商余额明显不足')\n"
   ]
  },
  {
   "cell_type": "code",
   "execution_count": 8,
   "metadata": {},
   "outputs": [
    {
     "name": "stdout",
     "output_type": "stream",
     "text": [
      "1*1=1\t\n",
      "2*1=2\t2*2=4\t\n",
      "3*1=3\t3*2=6\t3*3=9\t\n",
      "4*1=4\t4*2=8\t4*3=12\t4*4=16\t\n",
      "5*1=5\t5*2=10\t5*3=15\t5*4=20\t5*5=25\t\n",
      "6*1=6\t6*2=12\t6*3=18\t6*4=24\t6*5=30\t6*6=36\t\n",
      "7*1=7\t7*2=14\t7*3=21\t7*4=28\t7*5=35\t7*6=42\t7*7=49\t\n",
      "8*1=8\t8*2=16\t8*3=24\t8*4=32\t8*5=40\t8*6=48\t8*7=56\t8*8=64\t\n",
      "9*1=9\t9*2=18\t9*3=27\t9*4=36\t9*5=45\t9*6=54\t9*7=63\t9*8=72\t9*9=81\t\n"
     ]
    }
   ],
   "source": [
    "for i in range(1, 10):\n",
    "    for j in range(1, i + 1):\n",
    "        print('%d*%d=%d' % (i, j, i * j), end='\\t')\n",
    "    print()"
   ]
  },
  {
   "cell_type": "code",
   "execution_count": 9,
   "metadata": {},
   "outputs": [
    {
     "name": "stdout",
     "output_type": "stream",
     "text": [
      "2 3 5 7 11 13 17 19 23 29 31 37 41 43 47 53 59 61 67 71 73 79 83 89 97 "
     ]
    }
   ],
   "source": [
    "import math\n",
    "\n",
    "for num in range(2, 100):\n",
    "    is_prime = True\n",
    "    for factor in range(2, int(math.sqrt(num)) + 1):\n",
    "        if num % factor == 0:\n",
    "            is_prime = False\n",
    "            break\n",
    "    if is_prime:\n",
    "        print(num, end=' ')"
   ]
  },
  {
   "cell_type": "code",
   "execution_count": null,
   "metadata": {},
   "outputs": [],
   "source": []
  }
 ],
 "metadata": {
  "kernelspec": {
   "display_name": "Python 3",
   "language": "python",
   "name": "python3"
  },
  "language_info": {
   "codemirror_mode": {
    "name": "ipython",
    "version": 3
   },
   "file_extension": ".py",
   "mimetype": "text/x-python",
   "name": "python",
   "nbconvert_exporter": "python",
   "pygments_lexer": "ipython3",
   "version": "3.6.8"
  }
 },
 "nbformat": 4,
 "nbformat_minor": 2
}
