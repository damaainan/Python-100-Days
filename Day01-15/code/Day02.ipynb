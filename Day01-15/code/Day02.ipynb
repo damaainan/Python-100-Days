{
 "cells": [
  {
   "cell_type": "code",
   "execution_count": 1,
   "metadata": {},
   "outputs": [
    {
     "name": "stdout",
     "output_type": "stream",
     "text": [
      "请输入华氏温度: 25\n",
      "25.0华氏度 = -3.9摄氏度\n"
     ]
    }
   ],
   "source": [
    "\"\"\"\n",
    "将华氏温度转换为摄氏温度\n",
    "F = 1.8C + 32\n",
    "\"\"\"\n",
    "\n",
    "f = float(input('请输入华氏温度: '))\n",
    "c = (f - 32) / 1.8\n",
    "print('%.1f华氏度 = %.1f摄氏度' % (f, c))"
   ]
  },
  {
   "cell_type": "code",
   "execution_count": null,
   "metadata": {},
   "outputs": [],
   "source": []
  }
 ],
 "metadata": {
  "kernelspec": {
   "display_name": "Python 3",
   "language": "python",
   "name": "python3"
  },
  "language_info": {
   "codemirror_mode": {
    "name": "ipython",
    "version": 3
   },
   "file_extension": ".py",
   "mimetype": "text/x-python",
   "name": "python",
   "nbconvert_exporter": "python",
   "pygments_lexer": "ipython3",
   "version": "3.6.8"
  }
 },
 "nbformat": 4,
 "nbformat_minor": 2
}
